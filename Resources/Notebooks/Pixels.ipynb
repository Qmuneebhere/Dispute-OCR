{
 "cells": [
  {
   "cell_type": "markdown",
   "id": "b62fcb88",
   "metadata": {},
   "source": [
    "# Pixel Information of our images"
   ]
  },
  {
   "cell_type": "code",
   "execution_count": 3,
   "id": "73508c14",
   "metadata": {},
   "outputs": [],
   "source": [
    "import cv2"
   ]
  },
  {
   "cell_type": "code",
   "execution_count": 4,
   "id": "d9f66f9e",
   "metadata": {},
   "outputs": [],
   "source": [
    "IMGpath = 'C:\\\\Users\\\\MAQ\\\\PDF\\\\Raw Images\\\\'"
   ]
  },
  {
   "cell_type": "code",
   "execution_count": 5,
   "id": "2249118d",
   "metadata": {},
   "outputs": [],
   "source": [
    "name = ''"
   ]
  },
  {
   "cell_type": "code",
   "execution_count": 1,
   "id": "c61123a6",
   "metadata": {},
   "outputs": [],
   "source": [
    "################################################# \n",
    "##                                             ##\n",
    "##          Pixels of images extracted         ## \n",
    "##             from each pdf page:             ##\n",
    "##                                             ##\n",
    "##       Non-Rotated Pages: 1700w x 2200h      ##\n",
    "##         Rotated Pages: 2200w x 1700h        ##\n",
    "##                                             ##\n",
    "#################################################"
   ]
  },
  {
   "cell_type": "markdown",
   "id": "d97bffa8",
   "metadata": {},
   "source": [
    "### 1. Pixels in RGB and Gray Scale"
   ]
  },
  {
   "cell_type": "code",
   "execution_count": 2,
   "id": "c22206d7",
   "metadata": {},
   "outputs": [],
   "source": [
    "def Print_RGB_GRAY(image, grayImage):\n",
    "\n",
    "    for gray, rgb in zip(grayImage, image):\n",
    "\n",
    "        for i,j in zip(gray, rgb):\n",
    "\n",
    "            print(\"In GrayScale: \", i, '|||', \"In RGB: \", j)"
   ]
  },
  {
   "cell_type": "code",
   "execution_count": 6,
   "id": "729cf25e",
   "metadata": {},
   "outputs": [],
   "source": [
    "# image = cv2.imread(IMGpath + name)"
   ]
  },
  {
   "cell_type": "code",
   "execution_count": 7,
   "id": "7d77db65",
   "metadata": {},
   "outputs": [],
   "source": [
    "# grayImage = cv2.cvtColor(image, cv2.COLOR_BGR2GRAY)"
   ]
  },
  {
   "cell_type": "code",
   "execution_count": 8,
   "id": "076b1352",
   "metadata": {},
   "outputs": [],
   "source": [
    "# Print_RGB_GRAY(image, grayImage)"
   ]
  },
  {
   "cell_type": "markdown",
   "id": "12002f1b",
   "metadata": {},
   "source": [
    "### 2. Pixels with intensity values in Gray Scale"
   ]
  },
  {
   "cell_type": "code",
   "execution_count": 9,
   "id": "166b68a4",
   "metadata": {},
   "outputs": [],
   "source": [
    "def PrintGray(grayImage, notWhite):\n",
    "\n",
    "    # Get the dimensions of the image\n",
    "\n",
    "    height, width = grayImage.shape\n",
    "\n",
    "    #  Access pixel values\n",
    "\n",
    "    for y in range(height):\n",
    "\n",
    "        for x in range(width):\n",
    "\n",
    "            pixel_value = grayImage[y, x]\n",
    "\n",
    "            if notWhite:\n",
    "\n",
    "                if pixel_value < 127:\n",
    "\n",
    "                    print(\"Pixel value at position ({}, {}): {}\".format(x + 1, y + 1, pixel_value))\n",
    "            \n",
    "            else:\n",
    "        \n",
    "                print(\"Pixel value at position ({}, {}): {}\".format(x + 1, y + 1, pixel_value))"
   ]
  },
  {
   "cell_type": "code",
   "execution_count": 10,
   "id": "063e6b83",
   "metadata": {},
   "outputs": [],
   "source": [
    "# PrintGray(grayImage, True)"
   ]
  }
 ],
 "metadata": {
  "kernelspec": {
   "display_name": "Python 3 (ipykernel)",
   "language": "python",
   "name": "python3"
  },
  "language_info": {
   "codemirror_mode": {
    "name": "ipython",
    "version": 3
   },
   "file_extension": ".py",
   "mimetype": "text/x-python",
   "name": "python",
   "nbconvert_exporter": "python",
   "pygments_lexer": "ipython3",
   "version": "3.11.4"
  }
 },
 "nbformat": 4,
 "nbformat_minor": 5
}
