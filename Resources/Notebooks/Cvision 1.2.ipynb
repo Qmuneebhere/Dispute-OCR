{
 "cells": [
  {
   "cell_type": "markdown",
   "id": "f1691e11-b459-4301-b810-dc67249944d2",
   "metadata": {
    "jp-MarkdownHeadingCollapsed": true
   },
   "source": [
    "### Imports"
   ]
  },
  {
   "cell_type": "code",
   "execution_count": 1,
   "id": "5bf65971-844e-44ca-b5f7-e21c6869a6fa",
   "metadata": {},
   "outputs": [],
   "source": [
    "import os\n",
    "import PyPDF2\n",
    "import glob\n",
    "from PIL import Image\n",
    "from pdf2image import convert_from_path\n",
    "import pytesseract\n",
    "from pytesseract import Output\n",
    "from pytesseract import TesseractError\n",
    "import numpy as np\n",
    "import imutils\n",
    "import shutil\n",
    "import cv2\n",
    "import re\n",
    "import time\n",
    "from skimage import filters, exposure"
   ]
  },
  {
   "cell_type": "markdown",
   "id": "cd7e0683-f761-4b70-9d3f-3e6cab6630af",
   "metadata": {
    "jp-MarkdownHeadingCollapsed": true
   },
   "source": [
    "### Paths"
   ]
  },
  {
   "cell_type": "code",
   "execution_count": 2,
   "id": "9a3faefc-d890-4f3c-90f0-df97397ee91f",
   "metadata": {},
   "outputs": [],
   "source": [
    "#################################################\n",
    "##                                             ##\n",
    "##         Paths to folders containing:        ##\n",
    "##                                             ##\n",
    "##               1. Raw PDF Files              ##\n",
    "##          2. Identified PDF & Images         ##\n",
    "##         3. Unidentified PDF & Images        ##\n",
    "##                                             ##\n",
    "#################################################\n",
    "\n",
    "rawPDF = 'C:\\\\Users\\\\MUNEEB\\\\OCR\\\\Raw PDFs\\\\'\n",
    "scannedPDF1 = 'C:\\\\Users\\\\MUNEEB\\\\OCR\\\\1.2\\\\PDF and Images\\\\'\n",
    "scannedPDF2 = 'C:\\\\Users\\\\MUNEEB\\\\OCR\\\\1.2\\\\Unidentified PDF\\\\'"
   ]
  },
  {
   "cell_type": "markdown",
   "id": "d78f2619-911f-415d-a488-4e1aad183d8c",
   "metadata": {
    "jp-MarkdownHeadingCollapsed": true
   },
   "source": [
    "### Start Time"
   ]
  },
  {
   "cell_type": "code",
   "execution_count": 3,
   "id": "37927e68-47a2-44c8-891d-477a2f9fad2d",
   "metadata": {},
   "outputs": [],
   "source": [
    "start = time.time()"
   ]
  },
  {
   "cell_type": "markdown",
   "id": "e9a84b60-66f3-495f-962c-d7fcc93a8df6",
   "metadata": {
    "jp-MarkdownHeadingCollapsed": true
   },
   "source": [
    "### Text Matching"
   ]
  },
  {
   "cell_type": "code",
   "execution_count": 4,
   "id": "650ad129-46d2-4d82-9390-b8aac768bfbd",
   "metadata": {},
   "outputs": [],
   "source": [
    "#################################################\n",
    "##                                             ##\n",
    "##       This function takes text of img       ##\n",
    "##       and returns reference Number if       ##\n",
    "##       text matches pattern else False       ##\n",
    "##                                             ##\n",
    "#################################################\n",
    "\n",
    "def TextMatch(text):\n",
    "\n",
    "    # raw string for patterns\n",
    "\n",
    "    pattern1 = r'00\\d{8}.{1,25}Quie|00\\d{8}.{1,25}uier|00\\d{8}.{1,30}iero'\n",
    "    pattern2 = r'00\\d{8}.{5,20}este|00\\d{8}.{10,25}form|00\\d{8}.{10,25}mular'\n",
    "    pattern3 = r'encl.{1,80}00\\d{8}|closed.{1,80}00\\d{8}|refer.{5,15}num.{1,10}00\\d{8}'\n",
    "    refPattern = r\"00\\d{8}\"\n",
    "\n",
    "    # re.compile with DOTALL enables \n",
    "    # '.' to include next line too.\n",
    "\n",
    "    regex1 = re.compile(pattern1, re.DOTALL)\n",
    "    regex2 = re.compile(pattern2, re.DOTALL)\n",
    "    regex3 = re.compile(pattern3, re.DOTALL)\n",
    "\n",
    "    match1 = re.search(regex1, text)\n",
    "    match2 = re.search(regex2, text)\n",
    "    match3 = re.search(regex3, text)\n",
    "\n",
    "    if match1 or match2 or match3:\n",
    "        \n",
    "        if match1:\n",
    "    \n",
    "            matchedText = match1.group(0)\n",
    "    \n",
    "        elif match2:\n",
    "    \n",
    "            matchedText = match2.group(0)\n",
    "\n",
    "        elif match3:\n",
    "\n",
    "            matchedText = match3.group(0)\n",
    "            \n",
    "        referenceMatch = re.search(refPattern, matchedText)\n",
    "            \n",
    "        referenceNo = referenceMatch.group(0)\n",
    "\n",
    "        return referenceNo\n",
    "\n",
    "    else:\n",
    "\n",
    "        return False"
   ]
  },
  {
   "cell_type": "markdown",
   "id": "5636efaf-2d7c-400a-9299-4e27cbc394e3",
   "metadata": {
    "jp-MarkdownHeadingCollapsed": true
   },
   "source": [
    "### Rotation Angle"
   ]
  },
  {
   "cell_type": "code",
   "execution_count": 5,
   "id": "0752573e-a69e-42e4-8da4-a701b61c1716",
   "metadata": {},
   "outputs": [],
   "source": [
    "#################################################\n",
    "##                                             ##\n",
    "##       This function take img as input       ##\n",
    "##       reads it in OSD mode and return       ##\n",
    "##       an angle by which img should be       ##\n",
    "##                   rotated.                  ##\n",
    "##                                             ##\n",
    "#################################################\n",
    "    \n",
    "def RotationAngle(rawIMG):\n",
    "    \n",
    "    try:\n",
    "        \n",
    "        results = pytesseract.image_to_osd(rawIMG, output_type=Output.DICT)\\\n",
    "        \n",
    "        return results['rotate']\n",
    "    \n",
    "    except TesseractError as e:\n",
    "        \n",
    "        return -1"
   ]
  },
  {
   "cell_type": "markdown",
   "id": "109e30fb-536e-4e65-947f-e810ff388c7c",
   "metadata": {
    "jp-MarkdownHeadingCollapsed": true
   },
   "source": [
    "### Image Rotation"
   ]
  },
  {
   "cell_type": "code",
   "execution_count": 6,
   "id": "11661b69-a20e-494e-acc6-5faa7cc6fef7",
   "metadata": {},
   "outputs": [],
   "source": [
    "#################################################\n",
    "##                                             ##\n",
    "##    This function take image and rotation    ##\n",
    "##     angle as input and returns rotated      ##\n",
    "##               image as output.              ##\n",
    "##                                             ##\n",
    "#################################################\n",
    "\n",
    "def RotateImage(rawIMG, rotation):\n",
    "    \n",
    "    rotated = imutils.rotate_bound(rawIMG, angle=rotation)\n",
    "    \n",
    "    return rotated"
   ]
  },
  {
   "cell_type": "markdown",
   "id": "46a6ba02-0087-4e2d-952f-43156c6452ac",
   "metadata": {
    "jp-MarkdownHeadingCollapsed": true
   },
   "source": [
    "### Extracting Reference Number from Image"
   ]
  },
  {
   "cell_type": "code",
   "execution_count": 7,
   "id": "3f73af48-fe0d-4c1a-8b1c-522a839805e8",
   "metadata": {},
   "outputs": [],
   "source": [
    "def Reference(img):\n",
    "    \n",
    "    # extract text from images\n",
    "        \n",
    "    text = pytesseract.image_to_string(img)\n",
    "\n",
    "    reference = TextMatch(text)\n",
    "\n",
    "    if reference: return reference\n",
    "\n",
    "    else: return False"
   ]
  },
  {
   "cell_type": "markdown",
   "id": "ba2f7cd1-37fc-421d-a2ee-1374aef4805d",
   "metadata": {
    "jp-MarkdownHeadingCollapsed": true
   },
   "source": [
    "### Refining Image"
   ]
  },
  {
   "cell_type": "code",
   "execution_count": 8,
   "id": "9412b5bb-0693-4f53-8ff5-e17dd8c77f0f",
   "metadata": {},
   "outputs": [],
   "source": [
    "def RefiningImage(img):\n",
    "\n",
    "    # refines image\n",
    "\n",
    "    enhanced_image = exposure.adjust_gamma(img, gamma=0.5)\n",
    "    \n",
    "    return enhanced_image"
   ]
  },
  {
   "cell_type": "markdown",
   "id": "f9a34bfe-827b-4d75-addb-5bc13d8cafc6",
   "metadata": {
    "jp-MarkdownHeadingCollapsed": true
   },
   "source": [
    "### Image Selection"
   ]
  },
  {
   "cell_type": "code",
   "execution_count": 9,
   "id": "1afd8345-a664-4abe-a0bb-ff413903d194",
   "metadata": {},
   "outputs": [],
   "source": [
    "#################################################\n",
    "##                                             ##\n",
    "##     This function takes List of images      ##\n",
    "##     of each pdf and saves image if ref      ##\n",
    "##     number found and returns true. Ref      ##\n",
    "##     number image not found then return      ##\n",
    "##                    False.                   ##\n",
    "##                                             ##\n",
    "#################################################\n",
    "\n",
    "def ImageSelection(path, imgList):\n",
    "    \n",
    "    # Default value of found set to False\n",
    "\n",
    "    found = False\n",
    "\n",
    "    for img in imgList:\n",
    "\n",
    "        # Gets the rotation angle of image\n",
    "        \n",
    "        rotation = RotationAngle(img)\n",
    "\n",
    "        if rotation != -1:\n",
    "            \n",
    "            # Gets the rotated image with correct orientation\n",
    "        \n",
    "            newImage = RotateImage(img, rotation)\n",
    "\n",
    "        else: newImage = img\n",
    "\n",
    "        newImage = RefiningImage(newImage)\n",
    "\n",
    "        reference = Reference(newImage)\n",
    "\n",
    "        if reference:\n",
    "\n",
    "            cv2.imwrite(path + reference + '.png', newImage)\n",
    "\n",
    "            found = True\n",
    "            break\n",
    "\n",
    "        if found: break\n",
    "    \n",
    "    return found, reference"
   ]
  },
  {
   "cell_type": "markdown",
   "id": "f7aefe0a-82d6-4528-9fe2-b83098b81170",
   "metadata": {
    "jp-MarkdownHeadingCollapsed": true
   },
   "source": [
    "### PDF to image conversion"
   ]
  },
  {
   "cell_type": "code",
   "execution_count": 10,
   "id": "25876d93-03b5-41b0-b1f1-de9a884463ef",
   "metadata": {},
   "outputs": [],
   "source": [
    "def PDFtoImg(path1, path2, path3):\n",
    "    \n",
    "    # Total PDF count\n",
    "\n",
    "    PDFcount1 = 0\n",
    "\n",
    "    # Identified PDF count\n",
    "\n",
    "    PDFcount2 = 0\n",
    "    \n",
    "    os.chdir(path1)\n",
    "    \n",
    "    pattern = '*.pdf'\n",
    "\n",
    "    pdfNames = glob.glob(pattern)\n",
    "    \n",
    "    for file in pdfNames:\n",
    "\n",
    "        PDFcount1 += 1\n",
    "\n",
    "        # Gets a list of PIL images of each pdf page\n",
    "        \n",
    "        images = convert_from_path(path1 + file)\n",
    "\n",
    "        # Converts each PIL Image to np.array first\n",
    "        # Convert np.array to cv2 n-dimension array\n",
    "        # Also Converts RGB to Gray Scale.\n",
    "        # Adds each image to images List.\n",
    "\n",
    "        imgList = []\n",
    "        \n",
    "        for img in images:\n",
    "\n",
    "            gray = cv2.cvtColor(np.array(img), cv2.COLOR_RGB2GRAY)\n",
    "\n",
    "            imgList.append(gray)\n",
    "        \n",
    "        found, reference = ImageSelection(path2, imgList)\n",
    "\n",
    "        if found:\n",
    "\n",
    "            PDFcount2 += 1\n",
    "\n",
    "            name = reference + '.pdf'\n",
    "\n",
    "            oldPath = os.path.join(path1, file)\n",
    "\n",
    "            newPath = os.path.join(path2, name)\n",
    "\n",
    "            shutil.copy(oldPath, newPath)\n",
    "        \n",
    "        else:\n",
    "\n",
    "            oldPath = os.path.join(path1, file)\n",
    "\n",
    "            newPath = os.path.join(path3, file)\n",
    "\n",
    "            shutil.copy(oldPath, newPath)\n",
    "\n",
    "    return PDFcount1, PDFcount2"
   ]
  },
  {
   "cell_type": "markdown",
   "id": "27374f98-5907-40b5-9ee5-a5d794e0ca2d",
   "metadata": {},
   "source": [
    "### Processing"
   ]
  },
  {
   "cell_type": "code",
   "execution_count": 11,
   "id": "24d76bc0-5d1e-45fb-a7d5-bad25e8b5a0d",
   "metadata": {},
   "outputs": [],
   "source": [
    "total, identified = PDFtoImg(rawPDF, scannedPDF1, scannedPDF2)"
   ]
  },
  {
   "cell_type": "markdown",
   "id": "d9eb4f71-3694-4f1f-aa8d-7cebf7577c38",
   "metadata": {
    "jp-MarkdownHeadingCollapsed": true
   },
   "source": [
    "### End Time"
   ]
  },
  {
   "cell_type": "code",
   "execution_count": 12,
   "id": "88edc663-ab78-4e02-bc6e-bc12706044d8",
   "metadata": {},
   "outputs": [],
   "source": [
    "end = time.time()"
   ]
  },
  {
   "cell_type": "markdown",
   "id": "58cffef2-b2e7-475b-941e-d213288f2ca4",
   "metadata": {
    "jp-MarkdownHeadingCollapsed": true
   },
   "source": [
    "### Execution"
   ]
  },
  {
   "cell_type": "code",
   "execution_count": 13,
   "id": "9ff4a639-df7f-4a34-9aff-1a5e46c3a6a8",
   "metadata": {},
   "outputs": [],
   "source": [
    "execution = \"{:.2f}\".format(end - start)"
   ]
  },
  {
   "cell_type": "markdown",
   "id": "fcaf943e-5fbf-41a8-894a-42cda7938081",
   "metadata": {},
   "source": [
    "### Result"
   ]
  },
  {
   "cell_type": "code",
   "execution_count": 14,
   "id": "031963b8-5b93-492c-8be4-0de6bb6e1a94",
   "metadata": {},
   "outputs": [
    {
     "name": "stdout",
     "output_type": "stream",
     "text": [
      "Execution time: 190.93s\n",
      "Total PDF: 40\n",
      "Identified PDF: 32\n",
      "\n",
      "Accuracy: 80.0\n"
     ]
    }
   ],
   "source": [
    "print(f\"Execution time: {execution}s\")\n",
    "\n",
    "# Prints total and identified PDFs\n",
    "\n",
    "print(f\"Total PDF: {total}\")\n",
    "print(f\"Identified PDF: {identified}\")\n",
    "print(f\"\\nAccuracy: {identified/total*100}\")"
   ]
  }
 ],
 "metadata": {
  "kernelspec": {
   "display_name": "Python 3 (ipykernel)",
   "language": "python",
   "name": "python3"
  },
  "language_info": {
   "codemirror_mode": {
    "name": "ipython",
    "version": 3
   },
   "file_extension": ".py",
   "mimetype": "text/x-python",
   "name": "python",
   "nbconvert_exporter": "python",
   "pygments_lexer": "ipython3",
   "version": "3.11.3"
  }
 },
 "nbformat": 4,
 "nbformat_minor": 5
}
