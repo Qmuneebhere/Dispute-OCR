{
 "cells": [
  {
   "cell_type": "markdown",
   "id": "f274c9bc-2362-4b41-af36-6687e943122e",
   "metadata": {
    "jp-MarkdownHeadingCollapsed": true
   },
   "source": [
    "### Imports"
   ]
  },
  {
   "cell_type": "code",
   "execution_count": 1,
   "id": "b7e010a8-04e0-48cc-a106-dedd4e1e8619",
   "metadata": {},
   "outputs": [],
   "source": [
    "import os\n",
    "import PyPDF2\n",
    "import glob\n",
    "from PIL import Image\n",
    "from pdf2image import convert_from_path\n",
    "import pytesseract\n",
    "from pytesseract import Output\n",
    "from pytesseract import TesseractError\n",
    "import numpy as np\n",
    "import imutils\n",
    "import shutil\n",
    "import cv2\n",
    "import re\n",
    "import time"
   ]
  },
  {
   "cell_type": "markdown",
   "id": "311bc551-e6eb-4052-abcd-bc0d79bc061b",
   "metadata": {
    "jp-MarkdownHeadingCollapsed": true
   },
   "source": [
    "### Paths"
   ]
  },
  {
   "cell_type": "code",
   "execution_count": 2,
   "id": "c007d8c5-ca93-4754-8c02-28e891468399",
   "metadata": {},
   "outputs": [],
   "source": [
    "#################################################\n",
    "##                                             ##\n",
    "##         Paths to folders containing:        ##\n",
    "##                                             ##\n",
    "##               1. Raw PDF Files              ##\n",
    "##          2. Identified PDF & Images         ##\n",
    "##         3. Unidentified PDF & Images        ##\n",
    "##                                             ##\n",
    "#################################################\n",
    "\n",
    "rawPDF = 'C:\\\\Users\\\\MUNEEB\\\\OCR\\\\Raw PDFs\\\\'\n",
    "scannedPDF1 = 'C:\\\\Users\\\\MUNEEB\\\\OCR\\\\1.1\\\\PDF and Images\\\\'\n",
    "scannedPDF2 = 'C:\\\\Users\\\\MUNEEB\\\\OCR\\\\1.1\\\\Unidentified PDF\\\\'"
   ]
  },
  {
   "cell_type": "markdown",
   "id": "dbaa5762-876c-459a-9c5c-55910755aa16",
   "metadata": {
    "jp-MarkdownHeadingCollapsed": true
   },
   "source": [
    "### Start Time"
   ]
  },
  {
   "cell_type": "code",
   "execution_count": 3,
   "id": "11631f2f-8492-456e-a9d3-c7d848ea12eb",
   "metadata": {},
   "outputs": [],
   "source": [
    "start = time.time()"
   ]
  },
  {
   "cell_type": "markdown",
   "id": "9c5bd47a-5668-4a7e-aab2-cc050f1d7477",
   "metadata": {
    "jp-MarkdownHeadingCollapsed": true
   },
   "source": [
    "### Text Matching"
   ]
  },
  {
   "cell_type": "code",
   "execution_count": 4,
   "id": "11cc5524-5ecf-45f6-b7b4-de3a46503eeb",
   "metadata": {},
   "outputs": [],
   "source": [
    "#################################################\n",
    "##                                             ##\n",
    "##       This function takes text of img       ##\n",
    "##       and returns reference Number if       ##\n",
    "##       text matches pattern else False       ##\n",
    "##                                             ##\n",
    "#################################################\n",
    "\n",
    "def TextMatch(text):\n",
    "\n",
    "    # raw string for patterns\n",
    "\n",
    "    pattern1 = r'00\\d{8}.{1,25}Quie|00\\d{8}.{1,25}uier|00\\d{8}.{1,30}iero'\n",
    "    pattern2 = r'00\\d{8}.{5,20}este|00\\d{8}.{10,25}form|00\\d{8}.{10,25}mular'\n",
    "    pattern3 = r'encl.{1,80}00\\d{8}|closed.{1,80}00\\d{8}|refer.{5,15}num.{1,10}00\\d{8}'\n",
    "    refPattern = r\"00\\d{8}\"\n",
    "\n",
    "    # re.compile with DOTALL enables \n",
    "    # '.' to include next line too.\n",
    "\n",
    "    regex1 = re.compile(pattern1, re.DOTALL)\n",
    "    regex2 = re.compile(pattern2, re.DOTALL)\n",
    "    regex3 = re.compile(pattern3, re.DOTALL)\n",
    "\n",
    "    match1 = re.search(regex1, text)\n",
    "    match2 = re.search(regex2, text)\n",
    "    match3 = re.search(regex3, text)\n",
    "\n",
    "    if match1 or match2 or match3:\n",
    "        \n",
    "        if match1:\n",
    "    \n",
    "            matchedText = match1.group(0)\n",
    "    \n",
    "        elif match2:\n",
    "    \n",
    "            matchedText = match2.group(0)\n",
    "\n",
    "        elif match3:\n",
    "\n",
    "            matchedText = match3.group(0)\n",
    "            \n",
    "        referenceMatch = re.search(refPattern, matchedText)\n",
    "            \n",
    "        referenceNo = referenceMatch.group(0)\n",
    "\n",
    "        return referenceNo\n",
    "\n",
    "    else:\n",
    "\n",
    "        return False"
   ]
  },
  {
   "cell_type": "markdown",
   "id": "38ba6342-40c8-449d-8b54-c1f6cd6d1183",
   "metadata": {
    "jp-MarkdownHeadingCollapsed": true
   },
   "source": [
    "### Rotation Angle"
   ]
  },
  {
   "cell_type": "code",
   "execution_count": 5,
   "id": "63a1bb27-d315-4636-81ea-9d0a2e7dba4f",
   "metadata": {},
   "outputs": [],
   "source": [
    "#################################################\n",
    "##                                             ##\n",
    "##       This function take img as input       ##\n",
    "##       reads it in OSD mode and return       ##\n",
    "##       an angle by which img should be       ##\n",
    "##                   rotated.                  ##\n",
    "##                                             ##\n",
    "#################################################\n",
    "    \n",
    "def RotationAngle(rawIMG):\n",
    "    \n",
    "    try:\n",
    "        \n",
    "        results = pytesseract.image_to_osd(rawIMG, output_type=Output.DICT)\\\n",
    "        \n",
    "        return results['rotate']\n",
    "    \n",
    "    except TesseractError as e:\n",
    "        \n",
    "        return -1"
   ]
  },
  {
   "cell_type": "markdown",
   "id": "8b5ca609-ba05-411e-9813-85ab54cec26f",
   "metadata": {
    "jp-MarkdownHeadingCollapsed": true
   },
   "source": [
    "### Image Rotation"
   ]
  },
  {
   "cell_type": "code",
   "execution_count": 6,
   "id": "dcb5123d-311f-4da7-bed6-b1aa3de28d5d",
   "metadata": {},
   "outputs": [],
   "source": [
    "#################################################\n",
    "##                                             ##\n",
    "##    This function take image and rotation    ##\n",
    "##     angle as input and returns rotated      ##\n",
    "##               image as output.              ##\n",
    "##                                             ##\n",
    "#################################################\n",
    "\n",
    "def RotateImage(rawIMG, rotation):\n",
    "    \n",
    "    rotated = imutils.rotate_bound(rawIMG, angle=rotation)\n",
    "    \n",
    "    return rotated"
   ]
  },
  {
   "cell_type": "markdown",
   "id": "d7b2bb8b-fad5-40b4-88d3-8f0fcb8dd42b",
   "metadata": {
    "jp-MarkdownHeadingCollapsed": true
   },
   "source": [
    "### Extracting Reference Number from Image"
   ]
  },
  {
   "cell_type": "code",
   "execution_count": 7,
   "id": "814cd31e-f8db-408c-b6f2-15a6c37caa14",
   "metadata": {},
   "outputs": [],
   "source": [
    "def Reference(img, angle):\n",
    "\n",
    "    if angle:\n",
    "\n",
    "        img = RotateImage(img, angle)\n",
    "\n",
    "    # extract text from images\n",
    "        \n",
    "    text = pytesseract.image_to_string(img)\n",
    "\n",
    "    reference = TextMatch(text)\n",
    "\n",
    "    if reference: return reference\n",
    "\n",
    "    else: return False"
   ]
  },
  {
   "cell_type": "markdown",
   "id": "1f4c32e2-87b0-491e-8668-881db8e12dbd",
   "metadata": {
    "jp-MarkdownHeadingCollapsed": true
   },
   "source": [
    "### Image Selection"
   ]
  },
  {
   "cell_type": "code",
   "execution_count": 8,
   "id": "948bb068-9d43-4c14-8ab1-7341c6ebef10",
   "metadata": {},
   "outputs": [],
   "source": [
    "#################################################\n",
    "##                                             ##\n",
    "##     This function takes List of images      ##\n",
    "##     of each pdf and saves image if ref      ##\n",
    "##     number found and returns true. Ref      ##\n",
    "##     number image not found then return      ##\n",
    "##                    False.                   ##\n",
    "##                                             ##\n",
    "#################################################\n",
    "\n",
    "def ImageSelection(path, imgList):\n",
    "    \n",
    "    # Default value of found set to False\n",
    "\n",
    "    found = False\n",
    "\n",
    "    # List of angles on which image will be OCR'ed\n",
    "\n",
    "    angles = [0, 90, 180, 270]\n",
    "\n",
    "    for img in imgList:\n",
    "\n",
    "        for angle in angles:\n",
    "\n",
    "            reference = Reference(img, angle)\n",
    "\n",
    "            if reference:\n",
    "\n",
    "                # Gets the rotation angle of image\n",
    "        \n",
    "                rotation = RotationAngle(img)\n",
    "        \n",
    "                if rotation != -1:\n",
    "        \n",
    "                    # Gets the rotated image with correct orientation\n",
    "        \n",
    "                    newImage = RotateImage(img, rotation)\n",
    "\n",
    "                cv2.imwrite(path + reference + '.png', newImage)\n",
    "\n",
    "                found = True\n",
    "                break\n",
    "\n",
    "        if found: break\n",
    "    \n",
    "    return found, reference"
   ]
  },
  {
   "cell_type": "markdown",
   "id": "c9a747c7-b1f6-497d-847d-639d250c8a92",
   "metadata": {
    "jp-MarkdownHeadingCollapsed": true
   },
   "source": [
    "### PDF to image conversion"
   ]
  },
  {
   "cell_type": "code",
   "execution_count": 9,
   "id": "9d11ae74-02a7-4186-9856-53410691caa7",
   "metadata": {},
   "outputs": [],
   "source": [
    "def PDFtoImg(path1, path2, path3):\n",
    "    \n",
    "    # Total PDF count\n",
    "\n",
    "    PDFcount1 = 0\n",
    "\n",
    "    # Identified PDF count\n",
    "\n",
    "    PDFcount2 = 0\n",
    "    \n",
    "    os.chdir(path1)\n",
    "    \n",
    "    pattern = '*.pdf'\n",
    "\n",
    "    pdfNames = glob.glob(pattern)\n",
    "    \n",
    "    for file in pdfNames:\n",
    "\n",
    "        PDFcount1 += 1\n",
    "\n",
    "        # Gets a list of PIL images of each pdf page\n",
    "        \n",
    "        images = convert_from_path(path1 + file)\n",
    "\n",
    "        # Converts each PIL Image to np.array first\n",
    "        # Convert np.array to cv2 n-dimension array\n",
    "        # Also Converts RGB to Gray Scale.\n",
    "        # Adds each image to images List.\n",
    "\n",
    "        imgList = []\n",
    "        \n",
    "        for img in images:\n",
    "\n",
    "            gray = cv2.cvtColor(np.array(img), cv2.COLOR_RGB2GRAY)\n",
    "\n",
    "            imgList.append(gray)\n",
    "        \n",
    "        found, reference = ImageSelection(path2, imgList)\n",
    "\n",
    "        if found:\n",
    "\n",
    "            PDFcount2 += 1\n",
    "\n",
    "            name = reference + '.pdf'\n",
    "\n",
    "            oldPath = os.path.join(path1, file)\n",
    "\n",
    "            newPath = os.path.join(path2, name)\n",
    "\n",
    "            shutil.copy(oldPath, newPath)\n",
    "        \n",
    "        else:\n",
    "\n",
    "            oldPath = os.path.join(path1, file)\n",
    "\n",
    "            newPath = os.path.join(path3, file)\n",
    "\n",
    "            shutil.copy(oldPath, newPath)\n",
    "\n",
    "    return PDFcount1, PDFcount2 "
   ]
  },
  {
   "cell_type": "markdown",
   "id": "073460f4-3937-4c9d-8195-e4ad55f8020a",
   "metadata": {
    "jp-MarkdownHeadingCollapsed": true
   },
   "source": [
    "### Processing"
   ]
  },
  {
   "cell_type": "code",
   "execution_count": 10,
   "id": "53837e8a-cff8-477b-af43-db7ec3fd29ce",
   "metadata": {},
   "outputs": [],
   "source": [
    "total, identified = PDFtoImg(rawPDF, scannedPDF1, scannedPDF2)"
   ]
  },
  {
   "cell_type": "markdown",
   "id": "69c0a5fd-d543-4c78-9a36-891172fef103",
   "metadata": {
    "jp-MarkdownHeadingCollapsed": true
   },
   "source": [
    "### End Time"
   ]
  },
  {
   "cell_type": "code",
   "execution_count": 11,
   "id": "e9615e89-af58-4b1a-b864-b893f6274e0a",
   "metadata": {},
   "outputs": [],
   "source": [
    "end = time.time()"
   ]
  },
  {
   "cell_type": "markdown",
   "id": "f2c9e8d0-2519-4a36-8377-5565a641d8de",
   "metadata": {
    "jp-MarkdownHeadingCollapsed": true
   },
   "source": [
    "### Execution Time"
   ]
  },
  {
   "cell_type": "code",
   "execution_count": 12,
   "id": "31752def-07a8-4b67-8f1b-77abd3d76e3d",
   "metadata": {},
   "outputs": [],
   "source": [
    "execution = \"{:.2f}\".format(end - start)"
   ]
  },
  {
   "cell_type": "markdown",
   "id": "3b6450b8-f170-4cb6-9456-1c34b3792cb0",
   "metadata": {},
   "source": [
    "### Result: "
   ]
  },
  {
   "cell_type": "code",
   "execution_count": 13,
   "id": "37a7d078-bfb7-46fb-ab02-baf538a9c230",
   "metadata": {},
   "outputs": [
    {
     "name": "stdout",
     "output_type": "stream",
     "text": [
      "Execution time: 330.67s\n",
      "\n",
      "Total PDF: 40\n",
      "Identified PDF: 31\n",
      "\n",
      "Accuracy: 77.5\n"
     ]
    }
   ],
   "source": [
    "print(f\"Execution time: {execution}s\\n\")\n",
    "\n",
    "# Prints total and identified PDFs\n",
    "\n",
    "print(f\"Total PDF: {total}\")\n",
    "print(f\"Identified PDF: {identified}\")\n",
    "print(f\"\\nAccuracy: {identified/total*100}\")"
   ]
  }
 ],
 "metadata": {
  "kernelspec": {
   "display_name": "Python 3 (ipykernel)",
   "language": "python",
   "name": "python3"
  },
  "language_info": {
   "codemirror_mode": {
    "name": "ipython",
    "version": 3
   },
   "file_extension": ".py",
   "mimetype": "text/x-python",
   "name": "python",
   "nbconvert_exporter": "python",
   "pygments_lexer": "ipython3",
   "version": "3.11.3"
  }
 },
 "nbformat": 4,
 "nbformat_minor": 5
}
