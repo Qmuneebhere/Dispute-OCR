{
 "cells": [
  {
   "cell_type": "code",
   "execution_count": 31,
   "id": "cd27c543",
   "metadata": {},
   "outputs": [],
   "source": [
    "import os\n",
    "import PyPDF2\n",
    "import glob\n",
    "from PIL import Image\n",
    "from pdf2image import convert_from_path\n",
    "import pytesseract\n",
    "from pytesseract import Output\n",
    "from pytesseract import TesseractError\n",
    "import numpy as np\n",
    "import imutils\n",
    "import cv2\n",
    "import re\n",
    "from skimage import filters, exposure"
   ]
  },
  {
   "cell_type": "code",
   "execution_count": 10,
   "id": "7b7a64a5-7f94-41b1-ae51-eb488805dd2a",
   "metadata": {},
   "outputs": [],
   "source": [
    "PDFpath = 'C:\\\\Users\\\\MUNEEB\\\\OCR\\\\Raw PDFs\\\\'\n",
    "IMGpath1 = 'C:\\\\Users\\\\MUNEEB\\\\OCR\\\\Image Testing\\\\Raw Images\\\\'\n",
    "IMGpath2 = 'C:\\\\Users\\\\MUNEEB\\\\OCR\\\\Image Testing\\\\Cleaned Images\\\\'"
   ]
  },
  {
   "cell_type": "markdown",
   "id": "56b561dc-5eaf-4b4e-8b15-ef0056ead87d",
   "metadata": {
    "jp-MarkdownHeadingCollapsed": true
   },
   "source": [
    "### Converting PDF to images"
   ]
  },
  {
   "cell_type": "code",
   "execution_count": 15,
   "id": "08955e6f-e58a-4508-8f44-36e40ce04399",
   "metadata": {},
   "outputs": [],
   "source": [
    "def PDFtoImg(file, path1, path2):\n",
    "\n",
    "    images = convert_from_path(path1 + file)\n",
    "\n",
    "    count = 1\n",
    "\n",
    "    for img in images:\n",
    "\n",
    "        gray = cv2.cvtColor(np.array(img), cv2.COLOR_RGB2GRAY)\n",
    "\n",
    "        cv2.imwrite(path2 + file + f'_page-{count}' + '.png', gray)\n",
    "\n",
    "        count += 1"
   ]
  },
  {
   "cell_type": "code",
   "execution_count": 16,
   "id": "c14fe464-be20-4ddd-996a-0d490023cf34",
   "metadata": {},
   "outputs": [],
   "source": [
    "PDFtoImg('Sample1.pdf', PDFpath, IMGpath1)"
   ]
  },
  {
   "cell_type": "markdown",
   "id": "6d18bca0-380f-4812-9738-8b4cafeaec9f",
   "metadata": {
    "jp-MarkdownHeadingCollapsed": true
   },
   "source": [
    "## Printing OCR'ed Text in Image"
   ]
  },
  {
   "cell_type": "code",
   "execution_count": 29,
   "id": "e13588ed",
   "metadata": {},
   "outputs": [],
   "source": [
    "name = 'Sample1.pdf_page-1.png'"
   ]
  },
  {
   "cell_type": "markdown",
   "id": "f0bf6f3d",
   "metadata": {
    "jp-MarkdownHeadingCollapsed": true
   },
   "source": [
    "### Returns Rotation Angle:"
   ]
  },
  {
   "cell_type": "code",
   "execution_count": 22,
   "id": "6bcd5637",
   "metadata": {},
   "outputs": [],
   "source": [
    "def RotationAngle(rawIMG):\n",
    "    \n",
    "    try:\n",
    "        \n",
    "        results = pytesseract.image_to_osd(rawIMG, output_type=Output.DICT)\\\n",
    "        \n",
    "        return results['rotate']\n",
    "    \n",
    "    except TesseractError as e:\n",
    "        \n",
    "        return -1"
   ]
  },
  {
   "cell_type": "markdown",
   "id": "9021e434",
   "metadata": {
    "jp-MarkdownHeadingCollapsed": true
   },
   "source": [
    "### Rotates Image:"
   ]
  },
  {
   "cell_type": "code",
   "execution_count": 23,
   "id": "edc5d3b4",
   "metadata": {},
   "outputs": [],
   "source": [
    "def RotateImage(rawIMG, rotation):\n",
    "    \n",
    "    rotated = imutils.rotate_bound(rawIMG, angle=rotation)\n",
    "    \n",
    "    return rotated"
   ]
  },
  {
   "cell_type": "markdown",
   "id": "b220b6b6",
   "metadata": {
    "jp-MarkdownHeadingCollapsed": true
   },
   "source": [
    "### Search for Pattern in image:"
   ]
  },
  {
   "cell_type": "code",
   "execution_count": 24,
   "id": "0780f0ed",
   "metadata": {},
   "outputs": [],
   "source": [
    "def TextMatch(text):\n",
    "\n",
    "    # raw string for patterns\n",
    "\n",
    "    pattern1 = r'00\\d{8}.{1,25}Quie|00\\d{8}.{1,25}uier|00\\d{8}.{1,30}iero'\n",
    "    pattern2 = r'00\\d{8}.{5,20}este|00\\d{8}.{10,25}form|00\\d{8}.{10,25}mular'\n",
    "    pattern3 = r'encl.{1,80}00\\d{8}|closed.{1,80}00\\d{8}|refer.{5,15}num.{1,10}00\\d{8}'\n",
    "    refPattern = r\"00\\d{8}\"\n",
    "\n",
    "    # re.compile with DOTALL enables \n",
    "    # '.' to include next line too.\n",
    "\n",
    "    regex1 = re.compile(pattern1, re.DOTALL)\n",
    "    regex2 = re.compile(pattern2, re.DOTALL)\n",
    "    regex3 = re.compile(pattern3, re.DOTALL)\n",
    "\n",
    "    match1 = re.search(regex1, text)\n",
    "    match2 = re.search(regex2, text)\n",
    "    match3 = re.search(regex3, text)\n",
    "\n",
    "    if match1 or match2 or match3:\n",
    "        \n",
    "        print('Match successful')\n",
    "        \n",
    "        if match1:\n",
    "    \n",
    "            matchedText = match1.group(0)\n",
    "        \n",
    "            print(matchedText)\n",
    "    \n",
    "        elif match2:\n",
    "    \n",
    "            matchedText = match2.group(0)\n",
    "        \n",
    "            print(matchedText)\n",
    "\n",
    "        elif match3:\n",
    "\n",
    "            matchedText = match3.group(0)\n",
    "        \n",
    "            print(matchedText)\n",
    "            \n",
    "        referenceMatch = re.search(refPattern, matchedText)\n",
    "            \n",
    "        referenceNo = referenceMatch.group(0)\n",
    "\n",
    "        return referenceNo\n",
    "\n",
    "    else:\n",
    "\n",
    "        return False"
   ]
  },
  {
   "cell_type": "markdown",
   "id": "5969db94",
   "metadata": {
    "jp-MarkdownHeadingCollapsed": true
   },
   "source": [
    "### Returns Text in image:"
   ]
  },
  {
   "cell_type": "code",
   "execution_count": 37,
   "id": "1f924799",
   "metadata": {},
   "outputs": [],
   "source": [
    "def ImageText(path, name):\n",
    "    \n",
    "    img = path + name\n",
    "\n",
    "    image = cv2.imread(img)\n",
    "\n",
    "    grayImage = cv2.cvtColor(image, cv2.COLOR_BGR2GRAY)\n",
    "    \n",
    "    # Gets the rotation angle of image\n",
    "        \n",
    "    rotation = RotationAngle(grayImage)\n",
    "        \n",
    "    if rotation != -1:\n",
    "        \n",
    "        # Gets the rotated image with correct orientation\n",
    "        \n",
    "        newImage = RotateImage(grayImage, rotation)\n",
    "\n",
    "        print('Rotation done' + '\\n')\n",
    "        \n",
    "    else:\n",
    "            \n",
    "        print(f'No text found in image: {img}')\n",
    "    \n",
    "        newImage = grayImage\n",
    "\n",
    "    text = pytesseract.image_to_string(newImage)\n",
    "\n",
    "    text = text.replace(' ', '')\n",
    "    \n",
    "    print(TextMatch(text))\n",
    "    \n",
    "    return text"
   ]
  },
  {
   "cell_type": "markdown",
   "id": "4fb7c58f-d536-4d39-abd2-3947f3fde11a",
   "metadata": {},
   "source": [
    "# Text 1"
   ]
  },
  {
   "cell_type": "code",
   "execution_count": 25,
   "id": "07f921d1",
   "metadata": {},
   "outputs": [
    {
     "name": "stdout",
     "output_type": "stream",
     "text": [
      "Rotation done\n",
      "\n",
      "False\n"
     ]
    },
    {
     "data": {
      "text/plain": [
       "'Tal\\n\\neR\\n<Westies\\n\\nPipl\\n\\nighye\\n\\noshepplegfllpsjin\\n\\ngett.\\nfee\\nSou\\n\\nFeayh\\nsabringshdtacos”\\n\\n3\\nae\\na\\nin\\nzsig\\n\\nik\\nfa\\n\\n8383\\ni\\nLaie\\nsiruySeE\\nHii\\nsauceyea8\\n:pbyaneel\\njBon74292°\\n\\nSKOKIE,IL60076-4519\\n\\nPOBOX4519\\n\\n,INC.\\n\\nPOBOX4519\\n\\nSKOKIE,IL69076-4519\\n\\naaPBUDHafB|foghyeAlyyoogfogAEgpl\\n\\nJean\\n\\n\\\\:\\n\\n|\\n\\nae\\n6600NPALMERSTONDR\\n\\nMentor,OH44060-3974\\n\\n:\\ng\\ng\\n3\\n2\\nE\\n\\nphir\\n\\ncho\\n\\n75\\n\\nYours\\nwasidOsa\\nook\\n\\npyearnpurs\\n\\n(\\n\\nA\\n\\n'"
      ]
     },
     "execution_count": 25,
     "metadata": {},
     "output_type": "execute_result"
    }
   ],
   "source": [
    "ImageText(IMGpath1, name)"
   ]
  },
  {
   "cell_type": "markdown",
   "id": "082113a8-7ef2-4d54-84c0-1d86b47d8972",
   "metadata": {},
   "source": [
    "# Refined Image"
   ]
  },
  {
   "cell_type": "code",
   "execution_count": 34,
   "id": "253465b9-a933-4893-aef2-30f3faaa303b",
   "metadata": {},
   "outputs": [],
   "source": [
    "def RefineImage(path1, path2, name):\n",
    "    \n",
    "    img = path1 + name\n",
    "\n",
    "    image = cv2.imread(img)\n",
    "\n",
    "    grayImage = cv2.cvtColor(image, cv2.COLOR_BGR2GRAY)\n",
    "\n",
    "    # refines image\n",
    "\n",
    "    enhanced_image = exposure.adjust_gamma(image, gamma=0.5)\n",
    "\n",
    "    cv2.imwrite(path2 + 'refined' + '.png', enhanced_image)"
   ]
  },
  {
   "cell_type": "code",
   "execution_count": 36,
   "id": "e9484713-7cc8-4619-a18d-f442d7d16001",
   "metadata": {},
   "outputs": [],
   "source": [
    "RefineImage(IMGpath1, IMGpath2, name)"
   ]
  },
  {
   "cell_type": "markdown",
   "id": "6f1eb154-2dfe-40ab-b18e-8dc5e8c7e6bc",
   "metadata": {},
   "source": [
    "# Text 2"
   ]
  },
  {
   "cell_type": "code",
   "execution_count": 38,
   "id": "f16f9d72-a36c-42ca-aa5f-a01a418685c5",
   "metadata": {},
   "outputs": [
    {
     "name": "stdout",
     "output_type": "stream",
     "text": [
      "Rotation done\n",
      "\n",
      "Match successful\n",
      "0039610782.:\n",
      "\n",
      "0Quie\n",
      "0039610782\n"
     ]
    },
    {
     "data": {
      "text/plain": [
       "\"CLEVELANDOH\\n24RIL2023PMPL-\\n\\no\\nRNS\\nates\\n\\n[Bjelanbsiesthy\\n\\n—\\n|Checkallthatapply:\\nOoittodisputethedebtbecause|think:\\nisisnotmydebt\\n1Theamountiswrong.\\n1Other(pleasedescribeonreverseorattachadditionalinformation).\\n\\nPOBOX4519iadOs—youtosendmethenameandaddressoftheoriginal\\nEi1creditor..\\nSKOKIE,IL60076-4519Olenciosedthisamount:=\\nMakeyourcheckpayabletoUnilin,ligIncitiGethereferencenumber\\n0039610782.:\\n\\n0Quieroesteformularioenespafiol\\n\\nMailthisformto:\\nA244)fol]sf]2foopyof8oloy8yppgloBopGogN8gHOHBe¥afglMfggelas\\nObEDBBBRSBEB!OBBpBIe33)1d\\n“fengDyofoBagEDlgppgladogogh]fglOBbedefyFAlyyCeane-4513\\n\\n6600NPALMERSTONDRi\\nMentor,OH44060-3974fi\\n\\n‘N002\\n\\nYoorpeopleareA:\\nafisQvVLwepwaspaidO\\nYerA70'<f_cllpayri\\n\\nSALaywhenae~yhel\\n\\nGulU4uraii‘Someene-stoleme,\\n\\nWED51893200017031Page4of-\\n\\n\""
      ]
     },
     "execution_count": 38,
     "metadata": {},
     "output_type": "execute_result"
    }
   ],
   "source": [
    "ImageText(IMGpath2, 'refined.png')"
   ]
  },
  {
   "cell_type": "code",
   "execution_count": null,
   "id": "2c3aceaa-b73b-46ee-a3b0-d81477faf52a",
   "metadata": {},
   "outputs": [],
   "source": []
  }
 ],
 "metadata": {
  "kernelspec": {
   "display_name": "Python 3 (ipykernel)",
   "language": "python",
   "name": "python3"
  },
  "language_info": {
   "codemirror_mode": {
    "name": "ipython",
    "version": 3
   },
   "file_extension": ".py",
   "mimetype": "text/x-python",
   "name": "python",
   "nbconvert_exporter": "python",
   "pygments_lexer": "ipython3",
   "version": "3.11.3"
  }
 },
 "nbformat": 4,
 "nbformat_minor": 5
}
