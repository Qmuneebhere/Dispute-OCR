{
 "cells": [
  {
   "cell_type": "markdown",
   "id": "94365eca-655c-4b75-99a8-b00dcfa46ed6",
   "metadata": {
    "jp-MarkdownHeadingCollapsed": true
   },
   "source": [
    "### Imports"
   ]
  },
  {
   "cell_type": "code",
   "execution_count": 1,
   "id": "a09d1ef6",
   "metadata": {},
   "outputs": [],
   "source": [
    "import os\n",
    "import PyPDF2\n",
    "import glob\n",
    "from PIL import Image\n",
    "from pdf2image import convert_from_path\n",
    "import pytesseract\n",
    "from pytesseract import Output\n",
    "from pytesseract import TesseractError\n",
    "import numpy as np\n",
    "import imutils\n",
    "import shutil\n",
    "import cv2\n",
    "import re\n",
    "import time"
   ]
  },
  {
   "cell_type": "markdown",
   "id": "ed1fc943-beee-4665-a94a-e232fc957ca2",
   "metadata": {
    "jp-MarkdownHeadingCollapsed": true
   },
   "source": [
    "### Paths"
   ]
  },
  {
   "cell_type": "code",
   "execution_count": 2,
   "id": "97d59d49",
   "metadata": {},
   "outputs": [],
   "source": [
    "#################################################\n",
    "##                                             ##\n",
    "##         Paths to folders containing:        ##\n",
    "##                                             ##\n",
    "##               1. Raw PDF Files              ##\n",
    "##          2. Identified PDF & Images         ##\n",
    "##         3. Unidentified PDF & Images        ##\n",
    "##                                             ##\n",
    "#################################################\n",
    "\n",
    "rawPDF = 'C:\\\\Users\\\\MUNEEB\\\\OCR\\\\Raw PDFs\\\\'\n",
    "scannedPDF1 = 'C:\\\\Users\\\\MUNEEB\\\\OCR\\\\1.0\\\\PDF and Images\\\\'\n",
    "scannedPDF2 = 'C:\\\\Users\\\\MUNEEB\\\\OCR\\\\1.0\\\\Unidentified PDF\\\\'"
   ]
  },
  {
   "cell_type": "markdown",
   "id": "f7703800-c80a-49c9-8a34-815e37d1cbd8",
   "metadata": {
    "jp-MarkdownHeadingCollapsed": true
   },
   "source": [
    "### Start Time"
   ]
  },
  {
   "cell_type": "code",
   "execution_count": 3,
   "id": "db81b0a0-31ef-4614-be9f-752f68c81a8f",
   "metadata": {},
   "outputs": [],
   "source": [
    "start = time.time()"
   ]
  },
  {
   "cell_type": "markdown",
   "id": "0a5aa592-d3d0-4aa1-8e22-863f05577a71",
   "metadata": {
    "jp-MarkdownHeadingCollapsed": true
   },
   "source": [
    "### Text Matching"
   ]
  },
  {
   "cell_type": "code",
   "execution_count": 4,
   "id": "e0157822-c55c-482b-87ad-ef324faafe1e",
   "metadata": {},
   "outputs": [],
   "source": [
    "#################################################\n",
    "##                                             ##\n",
    "##       This function takes text of img       ##\n",
    "##       and returns reference Number if       ##\n",
    "##       text matches pattern else False       ##\n",
    "##                                             ##\n",
    "#################################################\n",
    "\n",
    "def TextMatch(text):\n",
    "\n",
    "    # raw string for patterns\n",
    "\n",
    "    pattern1 = r'00\\d{8}.{1,10}Quie|00\\d{8}.{1,11}uier|00\\d{8}.{1,12}iero'\n",
    "    pattern2 = r'00\\d{8}.{5,20}este|00\\d{8}.{10,25}form|00\\d{8}.{10,25}mular'\n",
    "    refPattern = r\"00\\d{8}\"\n",
    "\n",
    "    # re.compile with DOTALL enables \n",
    "    # '.' to include next line too.\n",
    "\n",
    "    regex1 = re.compile(pattern1, re.DOTALL)\n",
    "    regex2 = re.compile(pattern2, re.DOTALL)\n",
    "\n",
    "    match1 = re.search(regex1, text)\n",
    "    match2 = re.search(regex2, text)\n",
    "\n",
    "    if match1 or match2:\n",
    "        \n",
    "        if match1:\n",
    "    \n",
    "            matchedText = match1.group(0)\n",
    "    \n",
    "        elif match2:\n",
    "    \n",
    "            matchedText = match2.group(0)\n",
    "            \n",
    "        referenceMatch = re.search(refPattern, matchedText)\n",
    "            \n",
    "        referenceNo = referenceMatch.group(0)\n",
    "\n",
    "        return referenceNo\n",
    "\n",
    "    else:\n",
    "\n",
    "        return False"
   ]
  },
  {
   "cell_type": "markdown",
   "id": "3b683fb3-afe8-48aa-9615-6ca1bdca99fa",
   "metadata": {
    "jp-MarkdownHeadingCollapsed": true
   },
   "source": [
    "### Rotation Angle"
   ]
  },
  {
   "cell_type": "code",
   "execution_count": 5,
   "id": "3f8dd262-ff23-414b-a149-ae54a374df4a",
   "metadata": {},
   "outputs": [],
   "source": [
    "#################################################\n",
    "##                                             ##\n",
    "##       This function take img as input       ##\n",
    "##       reads it in OSD mode and return       ##\n",
    "##       an angle by which img should be       ##\n",
    "##                   rotated.                  ##\n",
    "##                                             ##\n",
    "#################################################\n",
    "    \n",
    "\n",
    "def RotationAngle(rawIMG):\n",
    "    \n",
    "    try:\n",
    "        \n",
    "        results = pytesseract.image_to_osd(rawIMG, output_type=Output.DICT)\\\n",
    "        \n",
    "        return results['rotate']\n",
    "    \n",
    "    except TesseractError as e:\n",
    "        \n",
    "        return -1"
   ]
  },
  {
   "cell_type": "markdown",
   "id": "7c2f0e04-31e2-4953-bf47-68287579ded1",
   "metadata": {
    "jp-MarkdownHeadingCollapsed": true
   },
   "source": [
    "### Image Rotation"
   ]
  },
  {
   "cell_type": "code",
   "execution_count": 6,
   "id": "eeb82406-9d67-4705-a14e-09d6d5fa4ffe",
   "metadata": {},
   "outputs": [],
   "source": [
    "#################################################\n",
    "##                                             ##\n",
    "##    This function take image and rotation    ##\n",
    "##     angle as input and returns rotated      ##\n",
    "##               image as output.              ##\n",
    "##                                             ##\n",
    "#################################################\n",
    "\n",
    "def RotateImage(rawIMG, rotation):\n",
    "    \n",
    "    rotated = imutils.rotate_bound(rawIMG, angle=rotation)\n",
    "    \n",
    "    return rotated"
   ]
  },
  {
   "cell_type": "markdown",
   "id": "3e42490b-5f31-4921-a2a2-431a6479a362",
   "metadata": {
    "jp-MarkdownHeadingCollapsed": true
   },
   "source": [
    "### Extracting Reference Number from Image"
   ]
  },
  {
   "cell_type": "code",
   "execution_count": 7,
   "id": "8b542bea-d7bb-40f5-82b6-e7bcb48f19d8",
   "metadata": {},
   "outputs": [],
   "source": [
    "def Reference(img):\n",
    "    \n",
    "    # extract text from images\n",
    "        \n",
    "    text = pytesseract.image_to_string(img)\n",
    "\n",
    "    reference = TextMatch(text)\n",
    "\n",
    "    if reference: return reference\n",
    "\n",
    "    else: return False"
   ]
  },
  {
   "cell_type": "markdown",
   "id": "9fbb22ce-90e0-4393-afc3-c2952a1a761d",
   "metadata": {
    "jp-MarkdownHeadingCollapsed": true
   },
   "source": [
    "### Image Selection"
   ]
  },
  {
   "cell_type": "code",
   "execution_count": 8,
   "id": "2af0a35a-82cf-4012-acac-cb215125d1a7",
   "metadata": {},
   "outputs": [],
   "source": [
    "#################################################\n",
    "##                                             ##\n",
    "##     This function takes List of images      ##\n",
    "##     of each pdf and saves image if ref      ##\n",
    "##     number found and returns true. Ref      ##\n",
    "##     number image not found then return      ##\n",
    "##                    False.                   ##\n",
    "##                                             ##\n",
    "#################################################\n",
    "\n",
    "def ImageSelection(path, imgList):\n",
    "    \n",
    "    # Default value of found set to False\n",
    "\n",
    "    found = False\n",
    "\n",
    "    for img in imgList:\n",
    "\n",
    "        # Gets the rotation angle of image\n",
    "        \n",
    "        rotation = RotationAngle(img)\n",
    "\n",
    "        if rotation != -1:\n",
    "            \n",
    "            # Gets the rotated image with correct orientation\n",
    "        \n",
    "            newImage = RotateImage(img, rotation)\n",
    "\n",
    "        else: newImage = img\n",
    "\n",
    "        reference = Reference(newImage)\n",
    "\n",
    "        if reference:\n",
    "\n",
    "            cv2.imwrite(path + reference + '.png', newImage)\n",
    "\n",
    "            found = True\n",
    "            break\n",
    "\n",
    "        if found: break\n",
    "    \n",
    "    return found, reference"
   ]
  },
  {
   "cell_type": "markdown",
   "id": "2b97c765-f1a5-49cc-a4d9-4a1e79101051",
   "metadata": {
    "jp-MarkdownHeadingCollapsed": true
   },
   "source": [
    "### PDF to image conversion"
   ]
  },
  {
   "cell_type": "code",
   "execution_count": 9,
   "id": "01e978db-8018-4788-b623-8d573ccd22e5",
   "metadata": {},
   "outputs": [],
   "source": [
    "def PDFtoImg(path1, path2, path3):\n",
    "\n",
    "    # Total PDF count\n",
    "\n",
    "    PDFcount1 = 0\n",
    "\n",
    "    # Identified PDF count\n",
    "\n",
    "    PDFcount2 = 0\n",
    "\n",
    "    os.chdir(path1)\n",
    "    \n",
    "    pattern = '*.pdf'\n",
    "\n",
    "    pdfNames = glob.glob(pattern)\n",
    "    \n",
    "    for file in pdfNames:\n",
    "\n",
    "        PDFcount1 += 1\n",
    "\n",
    "        # Gets a list of PIL images of each pdf page\n",
    "        \n",
    "        images = convert_from_path(path1 + file)\n",
    "\n",
    "        # Converts each PIL Image to np.array first\n",
    "        # Convert np.array to cv2 n-dimension array\n",
    "        # Also Converts RGB to Gray Scale.\n",
    "        # Adds each image to images List.\n",
    "\n",
    "        imgList = []\n",
    "        \n",
    "        for img in images:\n",
    "\n",
    "            gray = cv2.cvtColor(np.array(img), cv2.COLOR_RGB2GRAY)\n",
    "\n",
    "            imgList.append(gray)\n",
    "        \n",
    "        found, reference = ImageSelection(path2, imgList)\n",
    "\n",
    "        if found:\n",
    "\n",
    "            PDFcount2 += 1\n",
    "\n",
    "            name = reference + '.pdf'\n",
    "\n",
    "            oldPath = os.path.join(path1, file)\n",
    "\n",
    "            newPath = os.path.join(path2, name)\n",
    "\n",
    "            shutil.copy(oldPath, newPath)\n",
    "        \n",
    "        else:\n",
    "\n",
    "            oldPath = os.path.join(path1, file)\n",
    "\n",
    "            newPath = os.path.join(path3, file)\n",
    "\n",
    "            shutil.copy(oldPath, newPath)\n",
    "\n",
    "    return PDFcount1, PDFcount2 "
   ]
  },
  {
   "cell_type": "markdown",
   "id": "654406f6-9c91-4cd0-8c33-7b38d71f9e6d",
   "metadata": {
    "jp-MarkdownHeadingCollapsed": true
   },
   "source": [
    "### Processing"
   ]
  },
  {
   "cell_type": "code",
   "execution_count": 10,
   "id": "8bec23b1-2466-4bef-ad91-cd51a95d0ca6",
   "metadata": {},
   "outputs": [],
   "source": [
    "total, identified = PDFtoImg(rawPDF, scannedPDF1, scannedPDF2)"
   ]
  },
  {
   "cell_type": "markdown",
   "id": "3b7b9c7c-5f7d-44d0-9c94-2765b7e9f775",
   "metadata": {
    "jp-MarkdownHeadingCollapsed": true
   },
   "source": [
    "### End Time"
   ]
  },
  {
   "cell_type": "code",
   "execution_count": 11,
   "id": "bc8dff0e-0cf5-4606-8171-5ec5f20a35ec",
   "metadata": {},
   "outputs": [],
   "source": [
    "end = time.time()"
   ]
  },
  {
   "cell_type": "markdown",
   "id": "0e94e03f-e061-4d11-8906-b000d64046c9",
   "metadata": {
    "jp-MarkdownHeadingCollapsed": true
   },
   "source": [
    "### Execution Time"
   ]
  },
  {
   "cell_type": "code",
   "execution_count": 12,
   "id": "0d61d0b3-7fb2-405e-93de-f970909f6b89",
   "metadata": {},
   "outputs": [],
   "source": [
    "execution = \"{:.2f}\".format(end - start)"
   ]
  },
  {
   "cell_type": "markdown",
   "id": "cd6d0cde-3791-4b76-a7ff-24cd5ed5bc5d",
   "metadata": {},
   "source": [
    "### Result:"
   ]
  },
  {
   "cell_type": "code",
   "execution_count": 13,
   "id": "a871381f-b26e-42bd-b268-5335b9c3d6d3",
   "metadata": {},
   "outputs": [
    {
     "name": "stdout",
     "output_type": "stream",
     "text": [
      "Execution time: 247.27s\n",
      "\n",
      "Total PDF: 40\n",
      "Identified PDF: 17\n",
      "\n",
      "Accuracy: 42.5\n"
     ]
    }
   ],
   "source": [
    "print(f\"Execution time: {execution}s\\n\")\n",
    "\n",
    "# Prints total and identified PDFs\n",
    "\n",
    "print(f\"Total PDF: {total}\")\n",
    "print(f\"Identified PDF: {identified}\")\n",
    "print(f\"\\nAccuracy: {identified/total*100}\")"
   ]
  }
 ],
 "metadata": {
  "kernelspec": {
   "display_name": "Python 3 (ipykernel)",
   "language": "python",
   "name": "python3"
  },
  "language_info": {
   "codemirror_mode": {
    "name": "ipython",
    "version": 3
   },
   "file_extension": ".py",
   "mimetype": "text/x-python",
   "name": "python",
   "nbconvert_exporter": "python",
   "pygments_lexer": "ipython3",
   "version": "3.11.3"
  }
 },
 "nbformat": 4,
 "nbformat_minor": 5
}
