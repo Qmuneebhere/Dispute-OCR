{
 "cells": [
  {
   "cell_type": "markdown",
   "id": "95c17a2f",
   "metadata": {},
   "source": [
    "# Renaming PDF's"
   ]
  },
  {
   "cell_type": "code",
   "execution_count": 1,
   "id": "f6fdddb4",
   "metadata": {},
   "outputs": [],
   "source": [
    "import os"
   ]
  },
  {
   "cell_type": "code",
   "execution_count": 2,
   "id": "9503e2c1",
   "metadata": {},
   "outputs": [],
   "source": [
    "PDFpath = 'C:\\\\Users\\\\MUNEEB\\\\OCR\\\\Raw PDFs\\\\' "
   ]
  },
  {
   "cell_type": "code",
   "execution_count": 3,
   "id": "12412eee",
   "metadata": {},
   "outputs": [],
   "source": [
    "#################################################\n",
    "##                                             ##\n",
    "##         Gets list of files in folder        ##\n",
    "##          rename each file in folder         ##\n",
    "##                                             ##\n",
    "#################################################\n",
    "\n",
    "files = os.listdir(PDFpath)\n",
    "count = 1\n",
    "\n",
    "for filename in files:\n",
    "    \n",
    "    newName = f'Sample{str(count)}.pdf'\n",
    "    \n",
    "    newPath = os.path.join(PDFpath, newName)\n",
    "    \n",
    "    oldPath = os.path.join(PDFpath, filename)\n",
    "\n",
    "    os.rename(oldPath, newPath)\n",
    "    \n",
    "    count += 1"
   ]
  }
 ],
 "metadata": {
  "kernelspec": {
   "display_name": "Python 3 (ipykernel)",
   "language": "python",
   "name": "python3"
  },
  "language_info": {
   "codemirror_mode": {
    "name": "ipython",
    "version": 3
   },
   "file_extension": ".py",
   "mimetype": "text/x-python",
   "name": "python",
   "nbconvert_exporter": "python",
   "pygments_lexer": "ipython3",
   "version": "3.11.3"
  }
 },
 "nbformat": 4,
 "nbformat_minor": 5
}
